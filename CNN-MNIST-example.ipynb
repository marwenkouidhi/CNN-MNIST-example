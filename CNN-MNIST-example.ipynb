{
 "cells": [
  {
   "cell_type": "code",
   "execution_count": 30,
   "id": "f3eea249-f3d9-4fe4-af62-2b13fb727f98",
   "metadata": {
    "tags": []
   },
   "outputs": [],
   "source": [
    "import tensorflow as tf \n",
    "import tensorflow_datasets as tfds"
   ]
  },
  {
   "cell_type": "markdown",
   "id": "ef3581da-c332-4b48-bf26-91adb8a57078",
   "metadata": {},
   "source": [
    "### Downloading and preprocessing the data"
   ]
  },
  {
   "cell_type": "code",
   "execution_count": 24,
   "id": "b30308eb-78fe-4cd7-9fed-3fc8d9201b19",
   "metadata": {
    "tags": []
   },
   "outputs": [],
   "source": [
    "BUFFER_SIZE = 70_000\n",
    "BATCH_SIZE = 120 \n",
    "NUM_EPOCHS = 20 "
   ]
  },
  {
   "cell_type": "code",
   "execution_count": 5,
   "id": "ddbc48e0-7a55-443c-9972-f7e3c83e944e",
   "metadata": {
    "tags": []
   },
   "outputs": [],
   "source": [
    "mnist_dataset, mnist_info = tfds.load(name='mnist', with_info=True, as_supervised=True)"
   ]
  },
  {
   "cell_type": "code",
   "execution_count": 14,
   "id": "c3a4af3d-986b-481f-873b-17a2d56b591e",
   "metadata": {
    "tags": []
   },
   "outputs": [],
   "source": [
    "mnist_train_validation, mnist_test = mnist_dataset['train'], mnist_dataset['test']"
   ]
  },
  {
   "cell_type": "code",
   "execution_count": 16,
   "id": "ab163d29-8c4e-44b6-aa51-b1ec69e5e74c",
   "metadata": {
    "tags": []
   },
   "outputs": [],
   "source": [
    "def scale(img, label):\n",
    "    img = tf.cast(img, tf.float64)\n",
    "    img /= 255.\n",
    "    return img, label"
   ]
  },
  {
   "cell_type": "code",
   "execution_count": 28,
   "id": "fa08edc6-9e0c-4c6a-ae96-d9e2d42762ef",
   "metadata": {
    "tags": []
   },
   "outputs": [],
   "source": [
    "mnist_train_validation = mnist_train_validation.map(scale)\n",
    "mnist_test = mnist_test.map(scale)"
   ]
  },
  {
   "cell_type": "code",
   "execution_count": 34,
   "id": "dcce1ff1-daa5-4b58-8955-e93f4c70312f",
   "metadata": {
    "tags": []
   },
   "outputs": [],
   "source": [
    "num_validation_samples = 0.1 * mnist_info.splits['train'].num_examples\n",
    "num_validation_samples = tf.cast(num_validation_samples, tf.int64)\n",
    "\n",
    "num_validation_test = mnist_info.splits['test'].num_examples\n",
    "num_validation_test = tf.cast(num_validation_test, tf.int64)"
   ]
  },
  {
   "cell_type": "code",
   "execution_count": null,
   "id": "3d2a09db-4173-4581-b350-904a74d350de",
   "metadata": {},
   "outputs": [],
   "source": [
    "mnist_train_validation = mnist_train_validation.shuffle(BUFFER_SIZE)"
   ]
  },
  {
   "cell_type": "code",
   "execution_count": 32,
   "id": "411a7326-5744-4593-b188-5ea4838d956e",
   "metadata": {
    "tags": []
   },
   "outputs": [],
   "source": [
    "mnist_train = mnist_train_validation.skip(num_validation_samples)\n",
    "mnist_validation = mnist_train_validation.take(num_validation_samples)"
   ]
  },
  {
   "cell_type": "code",
   "execution_count": 33,
   "id": "586f3465-52b3-40f2-86b5-a2747275121b",
   "metadata": {
    "tags": []
   },
   "outputs": [],
   "source": [
    "mnist_train = mnist_train.batch(BATCH_SIZE)\n",
    "mnist_validation = mnist_validation.batch(num_validation_samples)\n",
    "mnist_test = mnist_train.batch(num_validation_test)"
   ]
  },
  {
   "cell_type": "markdown",
   "id": "a7d0b00e-ebd8-467d-a953-0f32db335696",
   "metadata": {},
   "source": [
    "### Creating the model and training it"
   ]
  },
  {
   "cell_type": "code",
   "execution_count": 58,
   "id": "add1390e-2463-4ff7-b8b2-23491e38dea8",
   "metadata": {
    "tags": []
   },
   "outputs": [],
   "source": [
    "model = tf.keras.Sequential([\n",
    "    tf.keras.layers.Conv2D(filters=50, kernel_size=5, activation='relu', input_shape=(28,28,1)),\n",
    "    tf.keras.layers.MaxPool2D(pool_size=(2,2)),\n",
    "                              \n",
    "    tf.keras.layers.Conv2D(filters=50, kernel_size=3, activation='relu'),\n",
    "    tf.keras.layers.MaxPool2D(pool_size=(2,2)),\n",
    "                              \n",
    "    tf.keras.layers.Flatten(),\n",
    "    tf.keras.layers.Dense(10)\n",
    "])"
   ]
  },
  {
   "cell_type": "code",
   "execution_count": 45,
   "id": "6759fb56-145e-49da-852f-a4221698f85b",
   "metadata": {
    "tags": []
   },
   "outputs": [
    {
     "name": "stdout",
     "output_type": "stream",
     "text": [
      "Model: \"sequential_3\"\n",
      "_________________________________________________________________\n",
      " Layer (type)                Output Shape              Param #   \n",
      "=================================================================\n",
      " conv2d_4 (Conv2D)           (None, 24, 24, 50)        1300      \n",
      "                                                                 \n",
      " max_pooling2d_2 (MaxPooling  (None, 12, 12, 50)       0         \n",
      " 2D)                                                             \n",
      "                                                                 \n",
      " conv2d_5 (Conv2D)           (None, 10, 10, 50)        22550     \n",
      "                                                                 \n",
      " max_pooling2d_3 (MaxPooling  (None, 5, 5, 50)         0         \n",
      " 2D)                                                             \n",
      "                                                                 \n",
      " flatten_1 (Flatten)         (None, 1250)              0         \n",
      "                                                                 \n",
      " dense_1 (Dense)             (None, 10)                12510     \n",
      "                                                                 \n",
      "=================================================================\n",
      "Total params: 36,360\n",
      "Trainable params: 36,360\n",
      "Non-trainable params: 0\n",
      "_________________________________________________________________\n"
     ]
    }
   ],
   "source": [
    "model.summary()"
   ]
  },
  {
   "cell_type": "code",
   "execution_count": 51,
   "id": "baf1cdfc-ebae-4529-bc2e-bc0c3351ede0",
   "metadata": {
    "tags": []
   },
   "outputs": [],
   "source": [
    "loss_fn = tf.keras.losses.SparseCategoricalCrossentropy(from_logits=True)"
   ]
  },
  {
   "cell_type": "code",
   "execution_count": 59,
   "id": "0ce1506e-dbcb-49b6-b7b1-64d82263c8e5",
   "metadata": {
    "tags": []
   },
   "outputs": [],
   "source": [
    "model.compile(optimizer='adam', loss=loss_fn, metrics=['accuracy'])"
   ]
  },
  {
   "cell_type": "code",
   "execution_count": 54,
   "id": "1ae460c1-83e4-49eb-9de4-88a20ae49816",
   "metadata": {
    "tags": []
   },
   "outputs": [],
   "source": [
    "early_stoping = tf.keras.callbacks.EarlyStopping(\n",
    "    monitor= 'val_loss',\n",
    "    mode='auto',\n",
    "    min_delta=2,\n",
    "    patience=0,\n",
    "    restore_best_weights=True,\n",
    ")"
   ]
  },
  {
   "cell_type": "code",
   "execution_count": 61,
   "id": "0f0b804f-20c7-4674-8548-5165e5e3f2b3",
   "metadata": {
    "tags": []
   },
   "outputs": [
    {
     "name": "stdout",
     "output_type": "stream",
     "text": [
      "Epoch 1/20\n",
      "450/450 - 12s - loss: 2.3014 - accuracy: 0.1125 - val_loss: 2.3013 - val_accuracy: 0.1113 - 12s/epoch - 26ms/step\n",
      "Epoch 2/20\n",
      "450/450 - 11s - loss: 2.3014 - accuracy: 0.1125 - val_loss: 2.3013 - val_accuracy: 0.1113 - 11s/epoch - 25ms/step\n"
     ]
    },
    {
     "data": {
      "text/plain": [
       "<keras.callbacks.History at 0x7f76bd1cbc10>"
      ]
     },
     "execution_count": 61,
     "metadata": {},
     "output_type": "execute_result"
    }
   ],
   "source": [
    "model.fit(\n",
    "    mnist_train,\n",
    "    epochs=NUM_EPOCHS,\n",
    "    callbacks=[early_stoping],\n",
    "    validation_data=mnist_validation,\n",
    "    verbose=2\n",
    ")"
   ]
  },
  {
   "cell_type": "code",
   "execution_count": null,
   "id": "151bc78d-7176-40fd-9f74-7d4f91526583",
   "metadata": {},
   "outputs": [],
   "source": []
  }
 ],
 "metadata": {
  "kernelspec": {
   "display_name": "lab",
   "language": "python",
   "name": "lab"
  },
  "language_info": {
   "codemirror_mode": {
    "name": "ipython",
    "version": 3
   },
   "file_extension": ".py",
   "mimetype": "text/x-python",
   "name": "python",
   "nbconvert_exporter": "python",
   "pygments_lexer": "ipython3",
   "version": "3.11.2"
  }
 },
 "nbformat": 4,
 "nbformat_minor": 5
}
